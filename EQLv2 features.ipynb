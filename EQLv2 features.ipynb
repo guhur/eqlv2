{
 "cells": [
  {
   "cell_type": "code",
   "execution_count": null,
   "metadata": {},
   "outputs": [],
   "source": [
    "%load_ext autoreload\n",
    "%autoreload 2"
   ]
  },
  {
   "cell_type": "code",
   "execution_count": null,
   "metadata": {},
   "outputs": [],
   "source": [
    "from extract_features_from_matterport import (\n",
    "    MatterportFeature, MatterportDataset, Arguments, load_viewpoints, \n",
    "    init_detector,inference_detector,filter_panorama, cartesian_to_polar\n",
    ")\n",
    "import sys\n",
    "from pathlib import Path\n",
    "import numpy as np\n",
    "import torch\n",
    "import matplotlib.pyplot as plt\n",
    "import matplotlib.patches as patches\n",
    "import matplotlib.colors as mcolors\n",
    "from mmdet.datasets.lvis import LVISV1Dataset\n",
    "from torch.nn import functional as F\n",
    "import math\n",
    "import matplotlib.colors as mcolors\n",
    "\n",
    "classes = LVISV1Dataset.CLASSES\n",
    "\n",
    "sys.argv= ['foo']\n",
    "args = Arguments\n",
    "args.matterport = Path('matterport-views.lmdb')\n",
    "args.max_total_boxes = 360"
   ]
  },
  {
   "cell_type": "code",
   "execution_count": null,
   "metadata": {},
   "outputs": [],
   "source": [
    "viewpoints = load_viewpoints(args)\n",
    "dataset = MatterportDataset(viewpoints, args)"
   ]
  },
  {
   "cell_type": "code",
   "execution_count": null,
   "metadata": {},
   "outputs": [],
   "source": [
    "feats, scan, viewpoint = dataset[2]"
   ]
  },
  {
   "cell_type": "code",
   "execution_count": null,
   "metadata": {},
   "outputs": [],
   "source": [
    "scan, viewpoint"
   ]
  },
  {
   "cell_type": "code",
   "execution_count": null,
   "metadata": {
    "scrolled": true,
    "tags": []
   },
   "outputs": [],
   "source": [
    "device_id = 0\n",
    "model = init_detector(str(args.config), str(args.checkpoint), device=f'cuda:{device_id}')"
   ]
  },
  {
   "cell_type": "code",
   "execution_count": null,
   "metadata": {},
   "outputs": [],
   "source": []
  },
  {
   "cell_type": "code",
   "execution_count": null,
   "metadata": {},
   "outputs": [],
   "source": [
    "all_boxes = []\n",
    "all_features = []\n",
    "all_probs = []\n",
    "all_view_ids = []\n",
    "all_labels = []\n",
    "\n",
    "for view_id, im in zip(feats['view_ids'], feats['image_feat']):\n",
    "\n",
    "    results = inference_detector(model, np.array(im))\n",
    "    assert len(results['bbox']) == len(results['features'])\n",
    "\n",
    "    all_boxes.append(results['bbox'])\n",
    "    all_probs.append(results['cls_score'])\n",
    "    all_features.append(results['features'])\n",
    "    all_labels.append(results['labels'])\n",
    "    num_bbox = results['bbox'].shape[0]\n",
    "    all_view_ids += [view_id] * num_bbox\n",
    "\n",
    "image_feat = torch.cat(all_features)\n",
    "bbox = torch.cat(all_boxes)\n",
    "probs = torch.cat(all_probs)\n",
    "view_ids = torch.Tensor(all_view_ids)\n",
    "labels = torch.cat(all_labels)\n",
    "\n",
    "keep_ind = filter_panorama(\n",
    "    bbox,\n",
    "    probs,\n",
    "    image_feat,\n",
    "    view_ids,\n",
    "    args.max_total_boxes, \n",
    "    feats['image_w'],\n",
    "    feats['image_h'],\n",
    "    feats['fov'],\n",
    ")"
   ]
  },
  {
   "cell_type": "code",
   "execution_count": null,
   "metadata": {},
   "outputs": [],
   "source": [
    "for view_id in range(36):\n",
    "    mask = view_ids[keep_ind] == view_id\n",
    "    if not mask.any():\n",
    "        continue\n",
    "    plt.imshow(feats['image_feat'][view_id])\n",
    "    ax = plt.gca()\n",
    "\n",
    "    for obj, vid, label, color in zip(bbox[keep_ind][mask], view_ids[keep_ind][mask], probs[keep_ind][mask], mcolors.TABLEAU_COLORS):\n",
    "        if vid != view_id:\n",
    "            continue\n",
    "        h = obj[3] - obj[1]\n",
    "        w = obj[2] - obj[0]\n",
    "        pos = (obj[0], obj[1])\n",
    "        rect = patches.Rectangle(\n",
    "            (pos), w, h, linewidth=1, \n",
    "            label=classes[label.argmax()],\n",
    "            edgecolor=color, \n",
    "            facecolor='none')\n",
    "        ax.add_patch(rect)\n",
    "    plt.axis('off')\n",
    "    plt.legend()\n",
    "    plt.show()"
   ]
  }
 ],
 "metadata": {
  "kernelspec": {
   "display_name": "Python 3 (ipykernel)",
   "language": "python",
   "name": "python3"
  },
  "language_info": {
   "codemirror_mode": {
    "name": "ipython",
    "version": 3
   },
   "file_extension": ".py",
   "mimetype": "text/x-python",
   "name": "python",
   "nbconvert_exporter": "python",
   "pygments_lexer": "ipython3",
   "version": "3.8.11"
  }
 },
 "nbformat": 4,
 "nbformat_minor": 4
}
